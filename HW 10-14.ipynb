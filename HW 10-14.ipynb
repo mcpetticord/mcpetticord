{
 "cells": [
  {
   "cell_type": "code",
   "execution_count": 3,
   "id": "d9bd83ed-7633-4ff3-ad97-794e9dd82338",
   "metadata": {},
   "outputs": [],
   "source": [
    "import numpy as np\n",
    "import matplotlib.pyplot as plt\n",
    "from scipy.stats import norm\n",
    "from scipy.optimize import minimize\n",
    "from scipy.optimize import Bounds\n",
    "import pandas as pd"
   ]
  },
  {
   "cell_type": "code",
   "execution_count": 15,
   "id": "cf65f5db-61d4-4d34-98bc-964a9a427b3f",
   "metadata": {},
   "outputs": [
    {
     "name": "stdout",
     "output_type": "stream",
     "text": [
      "Requirement already satisfied: openpyxl in /opt/anaconda3/lib/python3.12/site-packages (3.1.2)\n",
      "Requirement already satisfied: et-xmlfile in /opt/anaconda3/lib/python3.12/site-packages (from openpyxl) (1.1.0)\n",
      "Note: you may need to restart the kernel to use updated packages.\n"
     ]
    }
   ],
   "source": [
    "pip install openpyxl"
   ]
  },
  {
   "cell_type": "code",
   "execution_count": 37,
   "id": "6e7a2c0d-ee89-4337-95ff-45eea319c308",
   "metadata": {
    "scrolled": true
   },
   "outputs": [
    {
     "name": "stdout",
     "output_type": "stream",
     "text": [
      "  Subject ID Hazards (H_LR = [0, 1], H_RL = [0, 1])  \\\n",
      "0         BD                      H_LR = H_RL = 0.2   \n",
      "1         BD                      H_LR = H_RL = 0.2   \n",
      "2         BD                      H_LR = H_RL = 0.2   \n",
      "3         DL                      H_LR = H_RL = 0.2   \n",
      "4         DL                      H_LR = H_RL = 0.2   \n",
      "\n",
      "  Stimulus (SF, SNF, WF, WWF, WNF) SAT (Both, S, A) Experimenter  \\\n",
      "0                               SF             Both          Tim   \n",
      "1                               WF             Both          Tim   \n",
      "2                              WNF             Both          Tim   \n",
      "3                               SF             Both          Tim   \n",
      "4                               WF             Both          Tim   \n",
      "\n",
      "  Date of experiment (M/D/Y)  Relevant figure(s)  QUEST result Unnamed: 8  \n",
      "0        2015-07-16 00:00:00                 NaN           NaN        NaN  \n",
      "1            7/18/15 Morning                 NaN           3.0        NaN  \n",
      "2          7/18/15 Afternoon                 NaN           3.0        NaN  \n",
      "3           7/10/15, 7/11/15                 NaN           NaN        NaN  \n",
      "4            7/17/15 Morning                 NaN           NaN        NaN  \n"
     ]
    }
   ],
   "source": [
    "import pandas as pd\n",
    "\n",
    "# Load data from an Excel file\n",
    "data = pd.read_excel('/Users/marisape/Desktop/subject conditions.xlsx')  # Update the path as needed\n",
    "\n",
    "# Check the first few rows of the DataFrame\n",
    "print(data.head())\n",
    "\n",
    "# Access the specific column\n",
    "RTs = data['QUEST result'].to_numpy()  # Replace with the actual column name\n"
   ]
  },
  {
   "cell_type": "code",
   "execution_count": 39,
   "id": "05494cc1-0ea4-4a76-b105-88bb96cb8660",
   "metadata": {},
   "outputs": [],
   "source": [
    "# 2. Define the objective function\n",
    "def laterErrFcn(fits):\n",
    "    muR, deltaS = fits\n",
    "    return -np.sum(np.log(norm.pdf(RTs, muR, deltaS)))"
   ]
  },
  {
   "cell_type": "code",
   "execution_count": 41,
   "id": "f5d5988d-80c1-4b38-87c2-5fc588ee4f5e",
   "metadata": {},
   "outputs": [],
   "source": [
    "# 3. Define initial conditions\n",
    "lower_bounds = [0.001, 0.001]\n",
    "upper_bounds = [1000, 1000]"
   ]
  },
  {
   "cell_type": "code",
   "execution_count": 43,
   "id": "10360847-2606-40d8-aa0d-c31844364b34",
   "metadata": {},
   "outputs": [],
   "source": [
    "# 4. Run the fits\n",
    "bounds = Bounds(lower_bounds, upper_bounds)\n",
    "\n",
    "result = minimize(laterErrFcn, initial_values, method='L-BFGS-B', bounds=bounds)"
   ]
  },
  {
   "cell_type": "code",
   "execution_count": 45,
   "id": "e4748f1a-f37c-428e-8594-06480d579cf7",
   "metadata": {},
   "outputs": [],
   "source": [
    "# Extract fitted parameters\n",
    "fits = result.x\n",
    "nllk = result.fun  # negative log-likelihood"
   ]
  },
  {
   "cell_type": "code",
   "execution_count": 47,
   "id": "d0fb2244-20c0-4483-894d-728f0ae42f48",
   "metadata": {},
   "outputs": [
    {
     "data": {
      "image/png": "[encoded data removed]",
      "text/plain": [
       "<Figure size 640x480 with 1 Axes>"
      ]
     },
     "metadata": {},
     "output_type": "display_data"
    }
   ],
   "source": [
    "# 5. Evaluate the fits\n",
    "plt.hist(RTs, bins=30, density=True, alpha=0.5, label='Observed RT')\n",
    "muR, deltaS = fits\n",
    "x = np.linspace(np.min(RTs), np.max(RTs), 100)\n",
    "predictedPDF = norm.pdf(x, muR, deltaS)\n",
    "plt.plot(x, predictedPDF, 'r-', linewidth=2, label='Model Prediction')\n",
    "\n",
    "plt.legend()\n",
    "plt.xlabel('Reaction Time (RT)')\n",
    "plt.ylabel('Probability Density')\n",
    "plt.title('Model Fit to Reaction Time Data')\n",
    "plt.show()\n"
   ]
  },
  {
   "cell_type": "code",
   "execution_count": null,
   "id": "6bb9c1f1-c46d-4f5d-bddc-e73647124508",
   "metadata": {},
   "outputs": [],
   "source": []
  }
 ],
 "metadata": {
  "kernelspec": {
   "display_name": "Python 3 (ipykernel)",
   "language": "python",
   "name": "python3"
  },
  "language_info": {
   "codemirror_mode": {
    "name": "ipython",
    "version": 3
   },
   "file_extension": ".py",
   "mimetype": "text/x-python",
   "name": "python",
   "nbconvert_exporter": "python",
   "pygments_lexer": "ipython3",
   "version": "3.12.4"
  }
 },
 "nbformat": 4,
 "nbformat_minor": 5
}
